{
 "cells": [
  {
   "cell_type": "code",
   "execution_count": 28,
   "metadata": {},
   "outputs": [],
   "source": [
    "import numpy as np\n",
    "import pandas as pd\n",
    "import seaborn as sns\n",
    "import missingno as msno\n",
    "import string\n",
    "import seaborn as sns\n",
    "import pandas as pd\n",
    "import numpy as np\n",
    "import matplotlib.pyplot as plt\n",
    "import math\n",
    "import xgboost as xgb"
   ]
  },
  {
   "cell_type": "code",
   "execution_count": 29,
   "metadata": {},
   "outputs": [],
   "source": [
    "from sklearn.preprocessing import normalize # , LabelEncoder \n",
    "from sklearn.preprocessing import LabelEncoder\n",
    "from scipy.sparse import csr_matrix      \n",
    "from scipy import stats\n",
    "from pandas.api.types import CategoricalDtype \n",
    "from sklearn import preprocessing\n",
    "from sklearn.model_selection import train_test_split,StratifiedKFold\n",
    "from sklearn import linear_model\n",
    "from sklearn.metrics import classification_report\n",
    "from sklearn.preprocessing import StandardScaler\n",
    "from sklearn.neighbors import KNeighborsClassifier\n",
    "from sklearn.metrics import confusion_matrix\n",
    "from sklearn.metrics import accuracy_score\n",
    "from sklearn.svm import SVC\n",
    "from sklearn.naive_bayes import GaussianNB\n",
    "from sklearn.neural_network import MLPClassifier\n",
    "from sklearn.metrics import confusion_matrix\n",
    "from sklearn.metrics import plot_confusion_matrix"
   ]
  },
  {
   "cell_type": "code",
   "execution_count": 30,
   "metadata": {},
   "outputs": [],
   "source": [
    "gamer = pd.read_csv(r\"D:\\Queens University\\WINTER 2020\\AI\\Project\\PPG\\\\gamer1_latest.csv\")\n",
    "annotation=pd.read_csv(r\"D:\\Queens University\\WINTER 2020\\AI\\Project\\PPG\\\\gamer1-annotations.csv\")"
   ]
  },
  {
   "cell_type": "code",
   "execution_count": 31,
   "metadata": {},
   "outputs": [
    {
     "data": {
      "text/html": [
       "<div>\n",
       "<style scoped>\n",
       "    .dataframe tbody tr th:only-of-type {\n",
       "        vertical-align: middle;\n",
       "    }\n",
       "\n",
       "    .dataframe tbody tr th {\n",
       "        vertical-align: top;\n",
       "    }\n",
       "\n",
       "    .dataframe thead th {\n",
       "        text-align: right;\n",
       "    }\n",
       "</style>\n",
       "<table border=\"1\" class=\"dataframe\">\n",
       "  <thead>\n",
       "    <tr style=\"text-align: right;\">\n",
       "      <th></th>\n",
       "      <th>Datetime</th>\n",
       "      <th>Event</th>\n",
       "      <th>Value</th>\n",
       "    </tr>\n",
       "  </thead>\n",
       "  <tbody>\n",
       "    <tr>\n",
       "      <th>0</th>\n",
       "      <td>2000-01-01T11:00:00</td>\n",
       "      <td>Stanford Sleepiness Self-Assessment (1-7)</td>\n",
       "      <td>3</td>\n",
       "    </tr>\n",
       "    <tr>\n",
       "      <th>1</th>\n",
       "      <td>2000-01-01T12:00:00</td>\n",
       "      <td>Stanford Sleepiness Self-Assessment (1-7)</td>\n",
       "      <td>2</td>\n",
       "    </tr>\n",
       "    <tr>\n",
       "      <th>2</th>\n",
       "      <td>2000-01-01T13:00:00</td>\n",
       "      <td>Stanford Sleepiness Self-Assessment (1-7)</td>\n",
       "      <td>2</td>\n",
       "    </tr>\n",
       "    <tr>\n",
       "      <th>3</th>\n",
       "      <td>2000-01-01T14:00:00</td>\n",
       "      <td>Stanford Sleepiness Self-Assessment (1-7)</td>\n",
       "      <td>2</td>\n",
       "    </tr>\n",
       "    <tr>\n",
       "      <th>4</th>\n",
       "      <td>2000-01-01T15:00:00</td>\n",
       "      <td>Stanford Sleepiness Self-Assessment (1-7)</td>\n",
       "      <td>3</td>\n",
       "    </tr>\n",
       "    <tr>\n",
       "      <th>...</th>\n",
       "      <td>...</td>\n",
       "      <td>...</td>\n",
       "      <td>...</td>\n",
       "    </tr>\n",
       "    <tr>\n",
       "      <th>80</th>\n",
       "      <td>2000-01-02T09:16:00</td>\n",
       "      <td>Diary Entry (text)</td>\n",
       "      <td>Break</td>\n",
       "    </tr>\n",
       "    <tr>\n",
       "      <th>81</th>\n",
       "      <td>2000-01-02T09:19:00</td>\n",
       "      <td>Diary Entry (text)</td>\n",
       "      <td>Anime</td>\n",
       "    </tr>\n",
       "    <tr>\n",
       "      <th>82</th>\n",
       "      <td>2000-01-02T09:47:00</td>\n",
       "      <td>Diary Entry (text)</td>\n",
       "      <td>Nap</td>\n",
       "    </tr>\n",
       "    <tr>\n",
       "      <th>83</th>\n",
       "      <td>2000-01-02T10:01:00</td>\n",
       "      <td>Diary Entry (text)</td>\n",
       "      <td>Anime</td>\n",
       "    </tr>\n",
       "    <tr>\n",
       "      <th>84</th>\n",
       "      <td>2000-01-02T11:00:00</td>\n",
       "      <td>Diary Entry (text)</td>\n",
       "      <td>Done</td>\n",
       "    </tr>\n",
       "  </tbody>\n",
       "</table>\n",
       "<p>85 rows × 3 columns</p>\n",
       "</div>"
      ],
      "text/plain": [
       "               Datetime                                      Event  Value\n",
       "0   2000-01-01T11:00:00  Stanford Sleepiness Self-Assessment (1-7)      3\n",
       "1   2000-01-01T12:00:00  Stanford Sleepiness Self-Assessment (1-7)      2\n",
       "2   2000-01-01T13:00:00  Stanford Sleepiness Self-Assessment (1-7)      2\n",
       "3   2000-01-01T14:00:00  Stanford Sleepiness Self-Assessment (1-7)      2\n",
       "4   2000-01-01T15:00:00  Stanford Sleepiness Self-Assessment (1-7)      3\n",
       "..                  ...                                        ...    ...\n",
       "80  2000-01-02T09:16:00                         Diary Entry (text)  Break\n",
       "81  2000-01-02T09:19:00                         Diary Entry (text)  Anime\n",
       "82  2000-01-02T09:47:00                         Diary Entry (text)    Nap\n",
       "83  2000-01-02T10:01:00                         Diary Entry (text)  Anime\n",
       "84  2000-01-02T11:00:00                         Diary Entry (text)   Done\n",
       "\n",
       "[85 rows x 3 columns]"
      ]
     },
     "execution_count": 31,
     "metadata": {},
     "output_type": "execute_result"
    }
   ],
   "source": [
    "annotation.head(100)"
   ]
  },
  {
   "cell_type": "code",
   "execution_count": 32,
   "metadata": {},
   "outputs": [],
   "source": [
    "annotation = annotation.drop(['Event'], axis=1)"
   ]
  },
  {
   "cell_type": "code",
   "execution_count": 33,
   "metadata": {},
   "outputs": [],
   "source": [
    "annotation = annotation[pd.to_numeric(annotation['Value'], errors='coerce').isna()]"
   ]
  },
  {
   "cell_type": "code",
   "execution_count": 34,
   "metadata": {},
   "outputs": [
    {
     "data": {
      "text/plain": [
       "Break                             4\n",
       "Overwatch                         3\n",
       "Youtube                           3\n",
       "Anime                             3\n",
       "Hearthstone                       2\n",
       "Lunch                             2\n",
       "Bathroom                          2\n",
       "Kingdom                           2\n",
       "Coke                              1\n",
       "Programming                       1\n",
       "Tech issues                       1\n",
       "End break                         1\n",
       "Code and Youtube                  1\n",
       "Done                              1\n",
       "Dinner                            1\n",
       "Headset came off                  1\n",
       "Watching COD zombies              1\n",
       "Stash                             1\n",
       "Nap                               1\n",
       "Armello                           1\n",
       "Silicon valley and programming    1\n",
       "Work - programming                1\n",
       "Name: Value, dtype: int64"
      ]
     },
     "execution_count": 34,
     "metadata": {},
     "output_type": "execute_result"
    }
   ],
   "source": [
    "annotation['Value'].value_counts()"
   ]
  },
  {
   "cell_type": "code",
   "execution_count": 35,
   "metadata": {},
   "outputs": [],
   "source": [
    "#ordinal encoding\n",
    "map_ord1 = {'Hearthstone':0,\n",
    "           'Lunch':0,\n",
    "           'Youtube':0,\n",
    "           'Armello':0,\n",
    "           'Overwatch':0,\n",
    "           'Kingdom':0,\n",
    "           'Bathroom':0,\n",
    "           'Stash':0,\n",
    "           'Dinner':0,\n",
    "           'Anime':0,\n",
    "           'Work - programming':0,\n",
    "           'Silicon valley and programming':0,\n",
    "           'Coke':0,\n",
    "           'Tech issues':0,\n",
    "           'Programming':0,\n",
    "           'Code and Youtube':0,\n",
    "           'Watching COD zombies':0,\n",
    "           'Break':1,\n",
    "           'Nap':1,\n",
    "           }\n",
    "annotation.Value = annotation.Value.map(map_ord1)"
   ]
  },
  {
   "cell_type": "code",
   "execution_count": 36,
   "metadata": {},
   "outputs": [
    {
     "data": {
      "text/plain": [
       "0.0    26\n",
       "1.0     5\n",
       "Name: Value, dtype: int64"
      ]
     },
     "execution_count": 36,
     "metadata": {},
     "output_type": "execute_result"
    }
   ],
   "source": [
    "annotation['Value'].value_counts()"
   ]
  },
  {
   "cell_type": "code",
   "execution_count": 37,
   "metadata": {},
   "outputs": [],
   "source": [
    "annotation['Datetime']=annotation['Datetime'].str.replace('T',' ')\n",
    "annotation['minute']=annotation['Datetime'].str[0:16]\n",
    "gamer['minute']=gamer['Time'].str[0:16]\n",
    "df=gamer.merge(annotation, how='left',left_on='minute',right_on='minute')\n",
    "columns = [ 'bpm', 'pnn20', 'pnn50', 'lf', 'hf', 'ratio','Value']\n",
    "df=df[columns]"
   ]
  },
  {
   "cell_type": "code",
   "execution_count": 38,
   "metadata": {
    "scrolled": false
   },
   "outputs": [
    {
     "data": {
      "text/html": [
       "<div>\n",
       "<style scoped>\n",
       "    .dataframe tbody tr th:only-of-type {\n",
       "        vertical-align: middle;\n",
       "    }\n",
       "\n",
       "    .dataframe tbody tr th {\n",
       "        vertical-align: top;\n",
       "    }\n",
       "\n",
       "    .dataframe thead th {\n",
       "        text-align: right;\n",
       "    }\n",
       "</style>\n",
       "<table border=\"1\" class=\"dataframe\">\n",
       "  <thead>\n",
       "    <tr style=\"text-align: right;\">\n",
       "      <th></th>\n",
       "      <th>bpm</th>\n",
       "      <th>pnn20</th>\n",
       "      <th>pnn50</th>\n",
       "      <th>lf</th>\n",
       "      <th>hf</th>\n",
       "      <th>ratio</th>\n",
       "      <th>Value</th>\n",
       "    </tr>\n",
       "  </thead>\n",
       "  <tbody>\n",
       "    <tr>\n",
       "      <th>0</th>\n",
       "      <td>68.546158</td>\n",
       "      <td>0.792208</td>\n",
       "      <td>0.581169</td>\n",
       "      <td>263.484637</td>\n",
       "      <td>434.129326</td>\n",
       "      <td>0.606927</td>\n",
       "      <td>NaN</td>\n",
       "    </tr>\n",
       "    <tr>\n",
       "      <th>1</th>\n",
       "      <td>75.426945</td>\n",
       "      <td>0.745098</td>\n",
       "      <td>0.607843</td>\n",
       "      <td>99.587016</td>\n",
       "      <td>209.649871</td>\n",
       "      <td>0.475016</td>\n",
       "      <td>NaN</td>\n",
       "    </tr>\n",
       "    <tr>\n",
       "      <th>2</th>\n",
       "      <td>64.216910</td>\n",
       "      <td>0.862069</td>\n",
       "      <td>0.672414</td>\n",
       "      <td>73.994806</td>\n",
       "      <td>241.059931</td>\n",
       "      <td>0.306956</td>\n",
       "      <td>NaN</td>\n",
       "    </tr>\n",
       "    <tr>\n",
       "      <th>3</th>\n",
       "      <td>69.124424</td>\n",
       "      <td>0.773585</td>\n",
       "      <td>0.566038</td>\n",
       "      <td>127.509933</td>\n",
       "      <td>181.104155</td>\n",
       "      <td>0.704070</td>\n",
       "      <td>NaN</td>\n",
       "    </tr>\n",
       "    <tr>\n",
       "      <th>4</th>\n",
       "      <td>64.318530</td>\n",
       "      <td>0.803279</td>\n",
       "      <td>0.540984</td>\n",
       "      <td>66.350942</td>\n",
       "      <td>154.360724</td>\n",
       "      <td>0.429843</td>\n",
       "      <td>NaN</td>\n",
       "    </tr>\n",
       "    <tr>\n",
       "      <th>...</th>\n",
       "      <td>...</td>\n",
       "      <td>...</td>\n",
       "      <td>...</td>\n",
       "      <td>...</td>\n",
       "      <td>...</td>\n",
       "      <td>...</td>\n",
       "      <td>...</td>\n",
       "    </tr>\n",
       "    <tr>\n",
       "      <th>95</th>\n",
       "      <td>71.150855</td>\n",
       "      <td>0.796610</td>\n",
       "      <td>0.593220</td>\n",
       "      <td>99.920078</td>\n",
       "      <td>217.373789</td>\n",
       "      <td>0.459669</td>\n",
       "      <td>NaN</td>\n",
       "    </tr>\n",
       "    <tr>\n",
       "      <th>96</th>\n",
       "      <td>70.561457</td>\n",
       "      <td>0.883333</td>\n",
       "      <td>0.766667</td>\n",
       "      <td>77.792166</td>\n",
       "      <td>203.609915</td>\n",
       "      <td>0.382065</td>\n",
       "      <td>NaN</td>\n",
       "    </tr>\n",
       "    <tr>\n",
       "      <th>97</th>\n",
       "      <td>70.996979</td>\n",
       "      <td>0.822222</td>\n",
       "      <td>0.755556</td>\n",
       "      <td>159.994450</td>\n",
       "      <td>175.034348</td>\n",
       "      <td>0.914075</td>\n",
       "      <td>NaN</td>\n",
       "    </tr>\n",
       "    <tr>\n",
       "      <th>98</th>\n",
       "      <td>68.627451</td>\n",
       "      <td>0.901639</td>\n",
       "      <td>0.786885</td>\n",
       "      <td>53.686715</td>\n",
       "      <td>230.010457</td>\n",
       "      <td>0.233410</td>\n",
       "      <td>NaN</td>\n",
       "    </tr>\n",
       "    <tr>\n",
       "      <th>99</th>\n",
       "      <td>71.847134</td>\n",
       "      <td>0.822222</td>\n",
       "      <td>0.688889</td>\n",
       "      <td>106.667762</td>\n",
       "      <td>163.495499</td>\n",
       "      <td>0.652420</td>\n",
       "      <td>NaN</td>\n",
       "    </tr>\n",
       "  </tbody>\n",
       "</table>\n",
       "<p>100 rows × 7 columns</p>\n",
       "</div>"
      ],
      "text/plain": [
       "          bpm     pnn20     pnn50          lf          hf     ratio  Value\n",
       "0   68.546158  0.792208  0.581169  263.484637  434.129326  0.606927    NaN\n",
       "1   75.426945  0.745098  0.607843   99.587016  209.649871  0.475016    NaN\n",
       "2   64.216910  0.862069  0.672414   73.994806  241.059931  0.306956    NaN\n",
       "3   69.124424  0.773585  0.566038  127.509933  181.104155  0.704070    NaN\n",
       "4   64.318530  0.803279  0.540984   66.350942  154.360724  0.429843    NaN\n",
       "..        ...       ...       ...         ...         ...       ...    ...\n",
       "95  71.150855  0.796610  0.593220   99.920078  217.373789  0.459669    NaN\n",
       "96  70.561457  0.883333  0.766667   77.792166  203.609915  0.382065    NaN\n",
       "97  70.996979  0.822222  0.755556  159.994450  175.034348  0.914075    NaN\n",
       "98  68.627451  0.901639  0.786885   53.686715  230.010457  0.233410    NaN\n",
       "99  71.847134  0.822222  0.688889  106.667762  163.495499  0.652420    NaN\n",
       "\n",
       "[100 rows x 7 columns]"
      ]
     },
     "execution_count": 38,
     "metadata": {},
     "output_type": "execute_result"
    }
   ],
   "source": [
    "df.head(100)"
   ]
  },
  {
   "cell_type": "code",
   "execution_count": 39,
   "metadata": {
    "scrolled": true
   },
   "outputs": [
    {
     "data": {
      "text/plain": [
       "0.0    26\n",
       "1.0     5\n",
       "Name: Value, dtype: int64"
      ]
     },
     "execution_count": 39,
     "metadata": {},
     "output_type": "execute_result"
    }
   ],
   "source": [
    "annotation['Value'].value_counts()"
   ]
  },
  {
   "cell_type": "code",
   "execution_count": 40,
   "metadata": {},
   "outputs": [],
   "source": [
    "def resumetable(df):\n",
    "    print(f\"Dataset Shape: {df.shape}\")\n",
    "    summary = pd.DataFrame(df.dtypes,columns=['dtypes'])\n",
    "    summary = summary.reset_index()\n",
    "    summary['Name'] = summary['index']\n",
    "    summary = summary[['Name','dtypes']]\n",
    "    summary['Missing'] = df.isnull().sum().values    \n",
    "    summary['Uniques'] = df.nunique().values\n",
    "\n",
    "    for name in summary['Name'].value_counts().index:\n",
    "        summary.loc[summary['Name'] == name, 'Entropy'] = round(stats.entropy(df[name].value_counts(normalize=True), base=2),2) \n",
    "\n",
    "    return summary"
   ]
  },
  {
   "cell_type": "code",
   "execution_count": 41,
   "metadata": {},
   "outputs": [
    {
     "name": "stdout",
     "output_type": "stream",
     "text": [
      "Dataset Shape: (1035, 7)\n"
     ]
    },
    {
     "data": {
      "text/html": [
       "<div>\n",
       "<style scoped>\n",
       "    .dataframe tbody tr th:only-of-type {\n",
       "        vertical-align: middle;\n",
       "    }\n",
       "\n",
       "    .dataframe tbody tr th {\n",
       "        vertical-align: top;\n",
       "    }\n",
       "\n",
       "    .dataframe thead th {\n",
       "        text-align: right;\n",
       "    }\n",
       "</style>\n",
       "<table border=\"1\" class=\"dataframe\">\n",
       "  <thead>\n",
       "    <tr style=\"text-align: right;\">\n",
       "      <th></th>\n",
       "      <th>Name</th>\n",
       "      <th>dtypes</th>\n",
       "      <th>Missing</th>\n",
       "      <th>Uniques</th>\n",
       "      <th>Entropy</th>\n",
       "    </tr>\n",
       "  </thead>\n",
       "  <tbody>\n",
       "    <tr>\n",
       "      <th>0</th>\n",
       "      <td>bpm</td>\n",
       "      <td>float64</td>\n",
       "      <td>0</td>\n",
       "      <td>1004</td>\n",
       "      <td>9.95</td>\n",
       "    </tr>\n",
       "    <tr>\n",
       "      <th>1</th>\n",
       "      <td>pnn20</td>\n",
       "      <td>float64</td>\n",
       "      <td>0</td>\n",
       "      <td>381</td>\n",
       "      <td>8.07</td>\n",
       "    </tr>\n",
       "    <tr>\n",
       "      <th>2</th>\n",
       "      <td>pnn50</td>\n",
       "      <td>float64</td>\n",
       "      <td>0</td>\n",
       "      <td>478</td>\n",
       "      <td>8.51</td>\n",
       "    </tr>\n",
       "    <tr>\n",
       "      <th>3</th>\n",
       "      <td>lf</td>\n",
       "      <td>float64</td>\n",
       "      <td>0</td>\n",
       "      <td>1028</td>\n",
       "      <td>9.99</td>\n",
       "    </tr>\n",
       "    <tr>\n",
       "      <th>4</th>\n",
       "      <td>hf</td>\n",
       "      <td>float64</td>\n",
       "      <td>0</td>\n",
       "      <td>1031</td>\n",
       "      <td>10.00</td>\n",
       "    </tr>\n",
       "    <tr>\n",
       "      <th>5</th>\n",
       "      <td>ratio</td>\n",
       "      <td>float64</td>\n",
       "      <td>0</td>\n",
       "      <td>1028</td>\n",
       "      <td>9.99</td>\n",
       "    </tr>\n",
       "    <tr>\n",
       "      <th>6</th>\n",
       "      <td>Value</td>\n",
       "      <td>float64</td>\n",
       "      <td>1017</td>\n",
       "      <td>2</td>\n",
       "      <td>0.65</td>\n",
       "    </tr>\n",
       "  </tbody>\n",
       "</table>\n",
       "</div>"
      ],
      "text/plain": [
       "    Name   dtypes  Missing  Uniques  Entropy\n",
       "0    bpm  float64        0     1004     9.95\n",
       "1  pnn20  float64        0      381     8.07\n",
       "2  pnn50  float64        0      478     8.51\n",
       "3     lf  float64        0     1028     9.99\n",
       "4     hf  float64        0     1031    10.00\n",
       "5  ratio  float64        0     1028     9.99\n",
       "6  Value  float64     1017        2     0.65"
      ]
     },
     "execution_count": 41,
     "metadata": {},
     "output_type": "execute_result"
    }
   ],
   "source": [
    "summary= resumetable(df)\n",
    "summary"
   ]
  },
  {
   "cell_type": "code",
   "execution_count": 42,
   "metadata": {},
   "outputs": [],
   "source": [
    "df = df.dropna(how='any')"
   ]
  },
  {
   "cell_type": "code",
   "execution_count": 43,
   "metadata": {},
   "outputs": [
    {
     "name": "stdout",
     "output_type": "stream",
     "text": [
      "Dataset Shape: (18, 7)\n"
     ]
    },
    {
     "data": {
      "text/html": [
       "<div>\n",
       "<style scoped>\n",
       "    .dataframe tbody tr th:only-of-type {\n",
       "        vertical-align: middle;\n",
       "    }\n",
       "\n",
       "    .dataframe tbody tr th {\n",
       "        vertical-align: top;\n",
       "    }\n",
       "\n",
       "    .dataframe thead th {\n",
       "        text-align: right;\n",
       "    }\n",
       "</style>\n",
       "<table border=\"1\" class=\"dataframe\">\n",
       "  <thead>\n",
       "    <tr style=\"text-align: right;\">\n",
       "      <th></th>\n",
       "      <th>Name</th>\n",
       "      <th>dtypes</th>\n",
       "      <th>Missing</th>\n",
       "      <th>Uniques</th>\n",
       "      <th>Entropy</th>\n",
       "    </tr>\n",
       "  </thead>\n",
       "  <tbody>\n",
       "    <tr>\n",
       "      <th>0</th>\n",
       "      <td>bpm</td>\n",
       "      <td>float64</td>\n",
       "      <td>0</td>\n",
       "      <td>18</td>\n",
       "      <td>4.17</td>\n",
       "    </tr>\n",
       "    <tr>\n",
       "      <th>1</th>\n",
       "      <td>pnn20</td>\n",
       "      <td>float64</td>\n",
       "      <td>0</td>\n",
       "      <td>16</td>\n",
       "      <td>3.95</td>\n",
       "    </tr>\n",
       "    <tr>\n",
       "      <th>2</th>\n",
       "      <td>pnn50</td>\n",
       "      <td>float64</td>\n",
       "      <td>0</td>\n",
       "      <td>16</td>\n",
       "      <td>3.95</td>\n",
       "    </tr>\n",
       "    <tr>\n",
       "      <th>3</th>\n",
       "      <td>lf</td>\n",
       "      <td>float64</td>\n",
       "      <td>0</td>\n",
       "      <td>17</td>\n",
       "      <td>4.06</td>\n",
       "    </tr>\n",
       "    <tr>\n",
       "      <th>4</th>\n",
       "      <td>hf</td>\n",
       "      <td>float64</td>\n",
       "      <td>0</td>\n",
       "      <td>18</td>\n",
       "      <td>4.17</td>\n",
       "    </tr>\n",
       "    <tr>\n",
       "      <th>5</th>\n",
       "      <td>ratio</td>\n",
       "      <td>float64</td>\n",
       "      <td>0</td>\n",
       "      <td>17</td>\n",
       "      <td>4.06</td>\n",
       "    </tr>\n",
       "    <tr>\n",
       "      <th>6</th>\n",
       "      <td>Value</td>\n",
       "      <td>float64</td>\n",
       "      <td>0</td>\n",
       "      <td>2</td>\n",
       "      <td>0.65</td>\n",
       "    </tr>\n",
       "  </tbody>\n",
       "</table>\n",
       "</div>"
      ],
      "text/plain": [
       "    Name   dtypes  Missing  Uniques  Entropy\n",
       "0    bpm  float64        0       18     4.17\n",
       "1  pnn20  float64        0       16     3.95\n",
       "2  pnn50  float64        0       16     3.95\n",
       "3     lf  float64        0       17     4.06\n",
       "4     hf  float64        0       18     4.17\n",
       "5  ratio  float64        0       17     4.06\n",
       "6  Value  float64        0        2     0.65"
      ]
     },
     "execution_count": 43,
     "metadata": {},
     "output_type": "execute_result"
    }
   ],
   "source": [
    "summary2 = summary= resumetable(df)\n",
    "summary2"
   ]
  },
  {
   "cell_type": "code",
   "execution_count": 44,
   "metadata": {},
   "outputs": [],
   "source": [
    "# # one hot encoding\n",
    "# df = pd.get_dummies(df, prefix=['Value'], columns = ['Value'])"
   ]
  },
  {
   "cell_type": "code",
   "execution_count": 45,
   "metadata": {},
   "outputs": [],
   "source": [
    "columns = [ 'bpm', 'pnn20', 'pnn50', 'lf', 'hf', 'ratio']\n",
    "values = ['Value']\n",
    "X=df[columns]\n",
    "y= df[values]"
   ]
  },
  {
   "cell_type": "code",
   "execution_count": 46,
   "metadata": {
    "scrolled": true
   },
   "outputs": [],
   "source": [
    "X_train, X_test, y_train, y_test = train_test_split(X, y, test_size=0.3, random_state=14)"
   ]
  },
  {
   "cell_type": "code",
   "execution_count": 47,
   "metadata": {},
   "outputs": [
    {
     "data": {
      "image/png": "[encoded data removed]",
      "text/plain": [
       "<Figure size 720x360 with 1 Axes>"
      ]
     },
     "metadata": {
      "needs_background": "light"
     },
     "output_type": "display_data"
    }
   ],
   "source": [
    "total = len(df)\n",
    "plt.figure(figsize=(10,5))\n",
    "\n",
    "g = sns.countplot(x='Value', data=df)\n",
    "g.set_title(\"TARGET DISTRIBUTION\", fontsize = 20)\n",
    "g.set_xlabel(\"Target Values\", fontsize = 15)\n",
    "g.set_ylabel(\"Count\", fontsize = 15)\n",
    "sizes=[] # Get highest values in y\n",
    "for p in g.patches:\n",
    "    height = p.get_height()\n",
    "    sizes.append(height)\n",
    "    g.text(p.get_x()+p.get_width()/2.,\n",
    "            height + 3,\n",
    "            '{:1.2f}%'.format(height/total*100),\n",
    "            ha=\"center\", fontsize=14) \n",
    "g.set_ylim(0, max(sizes) * 1.15) # set y limit based on highest heights\n",
    "\n",
    "plt.show()"
   ]
  },
  {
   "cell_type": "code",
   "execution_count": 48,
   "metadata": {},
   "outputs": [],
   "source": [
    "# #knn\n",
    "# error_rate = []\n",
    "# #for i in range(1, 10):\n",
    "#     knn = KNeighborsClassifier(n_neighbors=1)\n",
    "#     knn.fit(X_train, y_train)\n",
    "#     pred_i = knn.predict(X_test)\n",
    "#     error_rate.append(np.mean(pred_i != y_test))\n",
    "\n",
    "# plt.figure(figsize=(20,5))\n",
    "# plt.plot(range(1,10), error_rate)"
   ]
  },
  {
   "cell_type": "code",
   "execution_count": 49,
   "metadata": {},
   "outputs": [
    {
     "name": "stdout",
     "output_type": "stream",
     "text": [
      "[[4 0]\n",
      " [2 0]]\n",
      "              precision    recall  f1-score   support\n",
      "\n",
      "         0.0       0.67      1.00      0.80         4\n",
      "         1.0       0.00      0.00      0.00         2\n",
      "\n",
      "    accuracy                           0.67         6\n",
      "   macro avg       0.33      0.50      0.40         6\n",
      "weighted avg       0.44      0.67      0.53         6\n",
      "\n"
     ]
    },
    {
     "name": "stderr",
     "output_type": "stream",
     "text": [
      "E:\\Anaconda\\envs\\CISCProject\\lib\\site-packages\\ipykernel_launcher.py:2: DataConversionWarning: A column-vector y was passed when a 1d array was expected. Please change the shape of y to (n_samples, ), for example using ravel().\n",
      "  \n",
      "E:\\Anaconda\\envs\\CISCProject\\lib\\site-packages\\sklearn\\metrics\\_classification.py:1272: UndefinedMetricWarning: Precision and F-score are ill-defined and being set to 0.0 in labels with no predicted samples. Use `zero_division` parameter to control this behavior.\n",
      "  _warn_prf(average, modifier, msg_start, len(result))\n"
     ]
    }
   ],
   "source": [
    "knn = KNeighborsClassifier(n_neighbors=5)\n",
    "knn.fit(X_train, y_train)\n",
    "y_pred = knn.predict(X_test)\n",
    "\n",
    "print(confusion_matrix(y_test, y_pred))\n",
    "print(classification_report(y_test, y_pred))"
   ]
  },
  {
   "cell_type": "code",
   "execution_count": 50,
   "metadata": {},
   "outputs": [
    {
     "data": {
      "text/plain": [
       "<sklearn.metrics._plot.confusion_matrix.ConfusionMatrixDisplay at 0x1c23985b3c8>"
      ]
     },
     "execution_count": 50,
     "metadata": {},
     "output_type": "execute_result"
    },
    {
     "data": {
      "image/png": "[encoded data removed]",
      "text/plain": [
       "<Figure size 432x288 with 2 Axes>"
      ]
     },
     "metadata": {
      "needs_background": "light"
     },
     "output_type": "display_data"
    }
   ],
   "source": [
    "plot_confusion_matrix(knn, X_test, y_test, include_values= True,\n",
    "                                 cmap=plt.cm.Blues)"
   ]
  },
  {
   "cell_type": "code",
   "execution_count": 51,
   "metadata": {},
   "outputs": [
    {
     "name": "stdout",
     "output_type": "stream",
     "text": [
      "0.8333333333333334\n",
      "Accuracy: 100.00%\n"
     ]
    },
    {
     "name": "stderr",
     "output_type": "stream",
     "text": [
      "E:\\Anaconda\\envs\\CISCProject\\lib\\site-packages\\sklearn\\neural_network\\_multilayer_perceptron.py:934: DataConversionWarning: A column-vector y was passed when a 1d array was expected. Please change the shape of y to (n_samples, ), for example using ravel().\n",
      "  y = column_or_1d(y, warn=True)\n"
     ]
    }
   ],
   "source": [
    "#Artificial Neural Network\n",
    "ann = MLPClassifier(learning_rate = 'adaptive')\n",
    "ann.fit(X, y)\n",
    "print(ann.score(X_train,y_train))\n",
    "predictions = ann.predict(X_test)  # predict the target of testing samples\n",
    "accuracy = accuracy_score(y_test, predictions)\n",
    "print(\"Accuracy: %.2f%%\" % (accuracy * 100.0))"
   ]
  },
  {
   "cell_type": "code",
   "execution_count": 60,
   "metadata": {},
   "outputs": [
    {
     "data": {
      "text/plain": [
       "<sklearn.metrics._plot.confusion_matrix.ConfusionMatrixDisplay at 0x1c23a501ec8>"
      ]
     },
     "execution_count": 60,
     "metadata": {},
     "output_type": "execute_result"
    },
    {
     "data": {
      "image/png": "[encoded data removed]",
      "text/plain": [
       "<Figure size 432x288 with 2 Axes>"
      ]
     },
     "metadata": {
      "needs_background": "light"
     },
     "output_type": "display_data"
    }
   ],
   "source": [
    "plot_confusion_matrix(ann, X_test, y_test, include_values= True,\n",
    "                                 cmap=plt.cm.Blues)"
   ]
  },
  {
   "cell_type": "code",
   "execution_count": 53,
   "metadata": {},
   "outputs": [
    {
     "name": "stderr",
     "output_type": "stream",
     "text": [
      "E:\\Anaconda\\envs\\CISCProject\\lib\\site-packages\\sklearn\\preprocessing\\_label.py:235: DataConversionWarning: A column-vector y was passed when a 1d array was expected. Please change the shape of y to (n_samples, ), for example using ravel().\n",
      "  y = column_or_1d(y, warn=True)\n",
      "E:\\Anaconda\\envs\\CISCProject\\lib\\site-packages\\sklearn\\preprocessing\\_label.py:268: DataConversionWarning: A column-vector y was passed when a 1d array was expected. Please change the shape of y to (n_samples, ), for example using ravel().\n",
      "  y = column_or_1d(y, warn=True)\n"
     ]
    },
    {
     "name": "stdout",
     "output_type": "stream",
     "text": [
      "XGBClassifier(base_score=0.5, booster=None, colsample_bylevel=1,\n",
      "              colsample_bynode=1, colsample_bytree=1, gamma=0, gpu_id=-1,\n",
      "              importance_type='gain', interaction_constraints=None,\n",
      "              learning_rate=0.300000012, max_delta_step=0, max_depth=6,\n",
      "              min_child_weight=1, missing=nan, monotone_constraints=None,\n",
      "              n_estimators=100, n_jobs=0, num_parallel_tree=1,\n",
      "              objective='binary:logistic', random_state=0, reg_alpha=0,\n",
      "              reg_lambda=1, scale_pos_weight=1, subsample=1, tree_method=None,\n",
      "              validate_parameters=False, verbosity=None)\n",
      "Accuracy: 66.67%\n"
     ]
    }
   ],
   "source": [
    "#XGBoost\n",
    "model = xgb.XGBClassifier()\n",
    "model.fit(X_train, y_train)\n",
    "print(model)\n",
    "y_pred = model.predict(X_test)\n",
    "predictions = [value for value in y_pred]\n",
    "accuracy = accuracy_score(y_test, predictions)\n",
    "print(\"Accuracy: %.2f%%\" % (accuracy * 100.0))"
   ]
  },
  {
   "cell_type": "code",
   "execution_count": 54,
   "metadata": {},
   "outputs": [
    {
     "data": {
      "text/plain": [
       "<sklearn.metrics._plot.confusion_matrix.ConfusionMatrixDisplay at 0x1c23a1a7888>"
      ]
     },
     "execution_count": 54,
     "metadata": {},
     "output_type": "execute_result"
    },
    {
     "data": {
      "image/png": "[encoded data removed]",
      "text/plain": [
       "<Figure size 432x288 with 2 Axes>"
      ]
     },
     "metadata": {
      "needs_background": "light"
     },
     "output_type": "display_data"
    }
   ],
   "source": [
    "plot_confusion_matrix(model, X_test, y_test, include_values= True,\n",
    "                                 cmap=plt.cm.Blues)"
   ]
  },
  {
   "cell_type": "code",
   "execution_count": 55,
   "metadata": {},
   "outputs": [
    {
     "data": {
      "text/plain": [
       "0.6666666666666666"
      ]
     },
     "execution_count": 55,
     "metadata": {},
     "output_type": "execute_result"
    }
   ],
   "source": [
    "accuracy"
   ]
  },
  {
   "cell_type": "code",
   "execution_count": 56,
   "metadata": {},
   "outputs": [
    {
     "name": "stdout",
     "output_type": "stream",
     "text": [
      "0.8333333333333334\n",
      "Accuracy: 83.33%\n"
     ]
    },
    {
     "name": "stderr",
     "output_type": "stream",
     "text": [
      "E:\\Anaconda\\envs\\CISCProject\\lib\\site-packages\\sklearn\\naive_bayes.py:206: DataConversionWarning: A column-vector y was passed when a 1d array was expected. Please change the shape of y to (n_samples, ), for example using ravel().\n",
      "  y = column_or_1d(y, warn=True)\n"
     ]
    }
   ],
   "source": [
    "#Gaussian Naive Bayes\n",
    "gnb = GaussianNB()\n",
    "gnb.fit(X, y)\n",
    "print(gnb.score(X_train,y_train))\n",
    "predictions = gnb.predict(X_test)  # predict the target of testing samples\n",
    "accuracy = accuracy_score(y_test, predictions)\n",
    "print(\"Accuracy: %.2f%%\" % (accuracy * 100.0))"
   ]
  },
  {
   "cell_type": "code",
   "execution_count": 57,
   "metadata": {},
   "outputs": [
    {
     "data": {
      "text/plain": [
       "<sklearn.metrics._plot.confusion_matrix.ConfusionMatrixDisplay at 0x1c23a2cb488>"
      ]
     },
     "execution_count": 57,
     "metadata": {},
     "output_type": "execute_result"
    },
    {
     "data": {
      "image/png": "[encoded data removed]",
      "text/plain": [
       "<Figure size 432x288 with 2 Axes>"
      ]
     },
     "metadata": {
      "needs_background": "light"
     },
     "output_type": "display_data"
    }
   ],
   "source": [
    "plot_confusion_matrix(gnb, X_test, y_test, include_values= True,\n",
    "                                 cmap=plt.cm.Blues)"
   ]
  },
  {
   "cell_type": "code",
   "execution_count": 58,
   "metadata": {},
   "outputs": [
    {
     "name": "stdout",
     "output_type": "stream",
     "text": [
      "0.9166666666666666\n",
      "Accuracy: 66.67%\n"
     ]
    },
    {
     "name": "stderr",
     "output_type": "stream",
     "text": [
      "E:\\Anaconda\\envs\\CISCProject\\lib\\site-packages\\sklearn\\utils\\validation.py:760: DataConversionWarning: A column-vector y was passed when a 1d array was expected. Please change the shape of y to (n_samples, ), for example using ravel().\n",
      "  y = column_or_1d(y, warn=True)\n"
     ]
    }
   ],
   "source": [
    "#SVM Classification Training\n",
    "svm = SVC(C = .5)\n",
    "svm.fit(X_train, y_train)\n",
    "print(svm.score(X_train,y_train))\n",
    "predictions = svm.predict(X_test)  # predict the target of testing samples\n",
    "accuracy = accuracy_score(y_test, predictions)\n",
    "print(\"Accuracy: %.2f%%\" % (accuracy * 100.0))"
   ]
  },
  {
   "cell_type": "code",
   "execution_count": null,
   "metadata": {},
   "outputs": [],
   "source": []
  }
 ],
 "metadata": {
  "kernelspec": {
   "display_name": "Python 3",
   "language": "python",
   "name": "python3"
  },
  "language_info": {
   "codemirror_mode": {
    "name": "ipython",
    "version": 3
   },
   "file_extension": ".py",
   "mimetype": "text/x-python",
   "name": "python",
   "nbconvert_exporter": "python",
   "pygments_lexer": "ipython3",
   "version": "3.7.6"
  }
 },
 "nbformat": 4,
 "nbformat_minor": 4
}
